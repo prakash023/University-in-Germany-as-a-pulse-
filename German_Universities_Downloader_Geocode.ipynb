{
 "cells": [
  {
   "cell_type": "code",
   "execution_count": 43,
   "id": "34b4eef7-edfb-4836-a739-479bbf26b01d",
   "metadata": {},
   "outputs": [
    {
     "name": "stdout",
     "output_type": "stream",
     "text": [
      "🔍 Collecting data for Baden-Württemberg...\n",
      "🔍 Collecting data for Bayern...\n",
      "🔍 Collecting data for Berlin...\n",
      "🔍 Collecting data for Brandenburg...\n",
      "🔍 Collecting data for Bremen...\n",
      "🔍 Collecting data for Hamburg...\n",
      "🔍 Collecting data for Hessen...\n",
      "🔍 Collecting data for Mecklenburg-Vorpommern...\n",
      "🔍 Collecting data for Niedersachsen...\n",
      "🔍 Collecting data for Nordrhein-Westfalen...\n",
      "🔍 Collecting data for Rheinland-Pfalz...\n",
      "🔍 Collecting data for Saarland...\n",
      "🔍 Collecting data for Sachsen...\n",
      "🔍 Collecting data for Sachsen-Anhalt...\n",
      "🔍 Collecting data for Schleswig-Holstein...\n",
      "🔍 Collecting data for Thüringen...\n",
      "\n",
      "✅ Data collection complete!\n",
      "📁 CSV file saved to:\n",
      "   E:\\QGIS\\ne_10m_land\\Nepal\\Universities_and_Fachhochschulen_Germany_GoogleAPI.csv\n",
      "🏫 Total institutions collected: 976\n"
     ]
    }
   ],
   "source": [
    "import requests\n",
    "import time\n",
    "import pandas as pd\n",
    "import os\n",
    "\n",
    "# Your API key\n",
    "API_KEY = \"YOUR API HERE\"\n",
    "\n",
    "# Base URL for Google Places Text Search\n",
    "base_url = \"https://maps.googleapis.com/maps/api/place/textsearch/json\"\n",
    "\n",
    "# List of all 16 Bundesländer in Germany\n",
    "states = [\n",
    "    \"Baden-Württemberg\", \"Bayern\", \"Berlin\", \"Brandenburg\", \"Bremen\", \"Hamburg\",\n",
    "    \"Hessen\", \"Mecklenburg-Vorpommern\", \"Niedersachsen\", \"Nordrhein-Westfalen\",\n",
    "    \"Rheinland-Pfalz\", \"Saarland\", \"Sachsen\", \"Sachsen-Anhalt\",\n",
    "    \"Schleswig-Holstein\", \"Thüringen\"\n",
    "]\n",
    "\n",
    "# Results list\n",
    "results = []\n",
    "\n",
    "def fetch_places(query, state):\n",
    "    \"\"\"Fetch all universities or Fachhochschulen for a given state.\"\"\"\n",
    "    params = {\"query\": query, \"key\": API_KEY}\n",
    "    while True:\n",
    "        response = requests.get(base_url, params=params)\n",
    "        data = response.json()\n",
    "\n",
    "        # Error check\n",
    "        if response.status_code != 200 or \"error_message\" in data:\n",
    "            print(f\" Error in {state}: {data.get('error_message', 'Unknown error')}\")\n",
    "            break\n",
    "\n",
    "        # Extract results\n",
    "        for place in data.get(\"results\", []):\n",
    "            results.append({\n",
    "                \"name\": place.get(\"name\", \"\"),\n",
    "                \"address\": place.get(\"formatted_address\", \"\"),\n",
    "                \"lat\": place[\"geometry\"][\"location\"][\"lat\"],\n",
    "                \"lon\": place[\"geometry\"][\"location\"][\"lng\"],\n",
    "                \"state\": state,\n",
    "                \"type\": query.split(\" in \")[0],\n",
    "                \"maps_url\": f\"https://www.google.com/maps/place/?q=place_id:{place['place_id']}\"\n",
    "            })\n",
    "\n",
    "        # Pagination (for more than 20 results)\n",
    "        next_page_token = data.get(\"next_page_token\")\n",
    "        if not next_page_token:\n",
    "            break\n",
    "        params = {\"pagetoken\": next_page_token, \"key\": API_KEY}\n",
    "        time.sleep(2)  # wait for token activation\n",
    "\n",
    "\n",
    "# Run the data collection\n",
    "for state in states:\n",
    "    print(f\" Collecting data for {state}...\")\n",
    "    fetch_places(f\"university in {state}, Germany\", state)\n",
    "    fetch_places(f\"Fachhochschule in {state}, Germany\", state)\n",
    "    time.sleep(1)\n",
    "\n",
    "# Convert to DataFrame\n",
    "df = pd.DataFrame(results)\n",
    "\n",
    "# Clean + deduplicate\n",
    "df.drop_duplicates(subset=[\"name\", \"state\"], inplace=True)\n",
    "df[\"lat\"] = pd.to_numeric(df[\"lat\"], errors=\"coerce\")\n",
    "df[\"lon\"] = pd.to_numeric(df[\"lon\"], errors=\"coerce\")\n",
    "\n",
    "# Output path (same folder as script)\n",
    "output_file = os.path.join(os.getcwd(), \"Universities_and_Fachhochschulen_Germany_GoogleAPI.csv\")\n",
    "\n",
    "# Save file automatically\n",
    "df.to_csv(output_file, index=False, encoding=\"utf-8\")\n",
    "\n",
    "print(\"\\n Data collection complete!\")\n",
    "print(f\" CSV file saved to:\\n   {output_file}\")\n",
    "print(f\" Total institutions collected: {len(df)}\")\n"
   ]
  },
  {
   "cell_type": "code",
   "execution_count": null,
   "id": "957d6ad0-cbc0-4038-9026-6dff0db2ae28",
   "metadata": {},
   "outputs": [],
   "source": []
  },
  {
   "cell_type": "code",
   "execution_count": 48,
   "id": "01701799-85de-4178-8ea1-428572bb913d",
   "metadata": {},
   "outputs": [],
   "source": [
    "!pip install imageio pillow -q\n"
   ]
  },
  {
   "cell_type": "code",
   "execution_count": 52,
   "id": "e84c2849-df8e-436f-a835-44fc63bf883b",
   "metadata": {},
   "outputs": [
    {
     "name": "stdout",
     "output_type": "stream",
     "text": [
      "✅ GIF saved as germany_pulse.gif\n"
     ]
    }
   ],
   "source": [
    "import imageio.v2 as imageio\n",
    "import os\n",
    "\n",
    "# folder containing exported frames\n",
    "folder = r\"E:\\QGIS\\University_filtered\\pulse_frame\"  # change to your folder path\n",
    "\n",
    "# collect all image files sorted by name\n",
    "images = []\n",
    "for filename in sorted(os.listdir(folder)):\n",
    "    if filename.endswith(\".png\"):\n",
    "        filepath = os.path.join(folder, filename)\n",
    "        images.append(imageio.imread(filepath))\n",
    "\n",
    "# create GIF\n",
    "output_path = \"germany_pulse.gif\"\n",
    "\n",
    "# delay per frame (seconds)\n",
    "frame_duration = 0.15  # 0.15 sec = 150 ms\n",
    "\n",
    "imageio.mimsave(output_path, images, duration=frame_duration, loop=0)\n",
    "print(f\"✅ GIF saved as {output_path}\")\n"
   ]
  },
  {
   "cell_type": "code",
   "execution_count": null,
   "id": "169dd7dd-3ec9-401b-be81-189f7744339b",
   "metadata": {},
   "outputs": [],
   "source": []
  }
 ],
 "metadata": {
  "kernelspec": {
   "display_name": "Python [conda env:spatial_analysis]",
   "language": "python",
   "name": "conda-env-spatial_analysis-py"
  },
  "language_info": {
   "codemirror_mode": {
    "name": "ipython",
    "version": 3
   },
   "file_extension": ".py",
   "mimetype": "text/x-python",
   "name": "python",
   "nbconvert_exporter": "python",
   "pygments_lexer": "ipython3",
   "version": "3.13.5"
  }
 },
 "nbformat": 4,
 "nbformat_minor": 5
}
